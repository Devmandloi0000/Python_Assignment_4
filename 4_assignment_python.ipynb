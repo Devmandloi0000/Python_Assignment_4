{
 "cells": [
  {
   "cell_type": "markdown",
   "id": "89ffd8a9",
   "metadata": {},
   "source": [
    "# 3 Assignment For Python"
   ]
  },
  {
   "cell_type": "markdown",
   "id": "7642c0e1",
   "metadata": {},
   "source": [
    "## QUE(1)"
   ]
  },
  {
   "cell_type": "markdown",
   "id": "b34bff9c",
   "metadata": {},
   "source": [
    "1. What exactly is []?"
   ]
  },
  {
   "cell_type": "code",
   "execution_count": 74,
   "id": "04724ef1",
   "metadata": {},
   "outputs": [
    {
     "data": {
      "text/plain": [
       "list"
      ]
     },
     "execution_count": 74,
     "metadata": {},
     "output_type": "execute_result"
    }
   ],
   "source": [
    "# this square bracket is used for the list datatype\n",
    "# this list is empty , no contain any values inside the list\n",
    "\n",
    "\n",
    "type([])\n"
   ]
  },
  {
   "cell_type": "markdown",
   "id": "36ba56cf",
   "metadata": {},
   "source": [
    "## QUE(2)"
   ]
  },
  {
   "cell_type": "markdown",
   "id": "7e722725",
   "metadata": {},
   "source": [
    "2. In a list of values stored in a variable called spam, how would you assign the value 'hello' as the third value? (Assume [2, 4, 6, 8, 10] are in spam.)"
   ]
  },
  {
   "cell_type": "code",
   "execution_count": 75,
   "id": "0a43bc18",
   "metadata": {},
   "outputs": [],
   "source": [
    "spam = [2, 4, 6, 8, 10] \n",
    "\n",
    "spam.insert(3,'hello')"
   ]
  },
  {
   "cell_type": "code",
   "execution_count": 76,
   "id": "6417257d",
   "metadata": {},
   "outputs": [
    {
     "name": "stdout",
     "output_type": "stream",
     "text": [
      "[2, 4, 6, 'hello', 8, 10]\n"
     ]
    }
   ],
   "source": [
    "print(spam)"
   ]
  },
  {
   "cell_type": "markdown",
   "id": "ced8f996",
   "metadata": {},
   "source": [
    "## QUE(3)"
   ]
  },
  {
   "cell_type": "markdown",
   "id": "83e04582",
   "metadata": {},
   "source": [
    "3. What is the value of spam[int(int('3' * 2) / 11)]?"
   ]
  },
  {
   "cell_type": "code",
   "execution_count": 80,
   "id": "d89a15c4",
   "metadata": {},
   "outputs": [
    {
     "data": {
      "text/plain": [
       "8"
      ]
     },
     "execution_count": 80,
     "metadata": {},
     "output_type": "execute_result"
    }
   ],
   "source": [
    "spam = [2, 4, 6, 8, 10] \n",
    "\n",
    "\n",
    "spam[int(int('3' * 2) / 11)]\n",
    "\n"
   ]
  },
  {
   "cell_type": "markdown",
   "id": "cf2202a3",
   "metadata": {},
   "source": [
    "## QUE(4)"
   ]
  },
  {
   "cell_type": "markdown",
   "id": "2bdf1f86",
   "metadata": {},
   "source": [
    "4. What is the value of spam[-1]?"
   ]
  },
  {
   "cell_type": "code",
   "execution_count": 81,
   "id": "38eacea8",
   "metadata": {},
   "outputs": [
    {
     "data": {
      "text/plain": [
       "'d'"
      ]
     },
     "execution_count": 81,
     "metadata": {},
     "output_type": "execute_result"
    }
   ],
   "source": [
    "spam = ['a', 'b', 'c', 'd'] \n",
    "\n",
    "spam[-1]\n",
    "\n",
    "# [-1] is used for count negative indexes from the end"
   ]
  },
  {
   "cell_type": "markdown",
   "id": "922b4ff1",
   "metadata": {},
   "source": [
    "## QUE(5)"
   ]
  },
  {
   "cell_type": "markdown",
   "id": "845c11d9",
   "metadata": {},
   "source": [
    "5. What is the value of spam[:2]?"
   ]
  },
  {
   "cell_type": "code",
   "execution_count": 82,
   "id": "7b729ec8",
   "metadata": {},
   "outputs": [
    {
     "data": {
      "text/plain": [
       "['a', 'b']"
      ]
     },
     "execution_count": 82,
     "metadata": {},
     "output_type": "execute_result"
    }
   ],
   "source": [
    "spam = ['a', 'b', 'c', 'd'] \n",
    "\n",
    "\n",
    "spam[:-2]\n",
    "\n",
    "# [-2] is used for reversed side ,last second value form a list, because in python indexing from both side here negative indexing is used for at last values"
   ]
  },
  {
   "cell_type": "markdown",
   "id": "cb88aa0c",
   "metadata": {},
   "source": [
    "## QUE(6)"
   ]
  },
  {
   "cell_type": "markdown",
   "id": "6461e4d0",
   "metadata": {},
   "source": [
    "6. What is the value of bacon.index('cat')?"
   ]
  },
  {
   "cell_type": "code",
   "execution_count": 83,
   "id": "48ec1fb5",
   "metadata": {},
   "outputs": [
    {
     "data": {
      "text/plain": [
       "1"
      ]
     },
     "execution_count": 83,
     "metadata": {},
     "output_type": "execute_result"
    }
   ],
   "source": [
    "bacon = [3.14, 'cat', 11, 'cat,', True] \n",
    "\n",
    "\n",
    "bacon.index('cat')\n",
    "\n",
    "## index() is used for find the index of perticular value from the list"
   ]
  },
  {
   "cell_type": "markdown",
   "id": "0b1466ba",
   "metadata": {},
   "source": [
    "## QUE(7)"
   ]
  },
  {
   "cell_type": "markdown",
   "id": "d7948f9a",
   "metadata": {},
   "source": [
    "7. How does bacon.append(99) change the look of the list value in bacon?"
   ]
  },
  {
   "cell_type": "code",
   "execution_count": 84,
   "id": "d37c63be",
   "metadata": {},
   "outputs": [
    {
     "name": "stdout",
     "output_type": "stream",
     "text": [
      "[3.14, 'cat', 11, 'cat,', True, 99]\n"
     ]
    }
   ],
   "source": [
    "bacon = [3.14, 'cat', 11, 'cat,', True] \n",
    "\n",
    "\n",
    "bacon.append(99)\n",
    "print(bacon)\n",
    "\n",
    "## append is a inbuild function in python which is used to append or add value at last"
   ]
  },
  {
   "cell_type": "markdown",
   "id": "ccd870ba",
   "metadata": {},
   "source": [
    "## QUE(8)"
   ]
  },
  {
   "cell_type": "markdown",
   "id": "257ff18a",
   "metadata": {},
   "source": [
    "8. How does bacon.remove('cat') change the look of the list in bacon?"
   ]
  },
  {
   "cell_type": "code",
   "execution_count": 85,
   "id": "22edf35c",
   "metadata": {},
   "outputs": [
    {
     "name": "stdout",
     "output_type": "stream",
     "text": [
      "[3.14, 11, 'cat,', True]\n"
     ]
    }
   ],
   "source": [
    "bacon = [3.14, 'cat', 11, 'cat,', True] \n",
    "\n",
    "\n",
    "bacon.remove('cat')\n",
    "print(bacon)\n",
    "\n",
    "## remove is used for removing or deleting the value from a list.\n",
    "## in remove function value as (argument) are must for remove perticular value.\n",
    "## in a list first occurance will be removed by using remove method\n",
    "## permanent changes taken place in exiting list "
   ]
  },
  {
   "cell_type": "markdown",
   "id": "5e74fa23",
   "metadata": {},
   "source": [
    "## QUE(9)"
   ]
  },
  {
   "cell_type": "markdown",
   "id": "76a06867",
   "metadata": {},
   "source": [
    "9. What are the list concatenation and list replication operators?"
   ]
  },
  {
   "cell_type": "code",
   "execution_count": 40,
   "id": "9e8b27fc",
   "metadata": {},
   "outputs": [
    {
     "name": "stdout",
     "output_type": "stream",
     "text": [
      "[3.14, 'cat', 11, 'cat,', True, 1, 2, 3, 4, 5, 6]\n",
      "spamspamspam\n"
     ]
    }
   ],
   "source": [
    "# CONCATENATION  is (+) operator which is used for adding two or more list \n",
    "\n",
    "# RELICATION  is a (*) operator this is for stings concatenation \n",
    "\n",
    "\n",
    "my_list = [1,2,3,4,5,6]\n",
    "\n",
    "\n",
    "print(bacon + my_list) #concatenation\n",
    "print('spam'*3) #relication"
   ]
  },
  {
   "cell_type": "markdown",
   "id": "56c72dc1",
   "metadata": {},
   "source": [
    "## QUE(10)"
   ]
  },
  {
   "cell_type": "markdown",
   "id": "44c3ef9c",
   "metadata": {},
   "source": [
    "10. What is difference between the list methods append() and insert()?"
   ]
  },
  {
   "cell_type": "code",
   "execution_count": 42,
   "id": "65397546",
   "metadata": {},
   "outputs": [],
   "source": [
    "## APPEND() :- is used for adding a value at the end \n",
    "## INSERT() :- is used for adding a value anywhere into the list by using indexes"
   ]
  },
  {
   "cell_type": "markdown",
   "id": "80675457",
   "metadata": {},
   "source": [
    "## QUE(11)"
   ]
  },
  {
   "cell_type": "markdown",
   "id": "b75e5c0b",
   "metadata": {},
   "source": [
    "11. What are the two methods for removing items from a list?"
   ]
  },
  {
   "cell_type": "code",
   "execution_count": 45,
   "id": "13097a7c",
   "metadata": {},
   "outputs": [],
   "source": [
    "# Methods are used to remove values from the list \n",
    "#(1) :- Remove() > is used for to remove by using value\n",
    "\n",
    "#(2) :- Del > this can remove the value by indexes as well as whole list \n",
    "\n",
    "#(3) :- Pop() >  removed value by indexing \n",
    "\n",
    "#(4) :- Clear() > clear a complete data or values from the list"
   ]
  },
  {
   "cell_type": "markdown",
   "id": "3f1539c3",
   "metadata": {},
   "source": [
    "## QUE(12)"
   ]
  },
  {
   "cell_type": "markdown",
   "id": "5a473015",
   "metadata": {},
   "source": [
    "12. Describe how list values and string values are identical."
   ]
  },
  {
   "cell_type": "code",
   "execution_count": 87,
   "id": "ba413fb7",
   "metadata": {},
   "outputs": [],
   "source": [
    "## list values are enclosed within the square brackets whereas strings are enclosed by single, double or triple quotees.\n",
    "## list can contain any type of datatypes where string contain values inside a quotees\n",
    "# list are mutable where strings are immutable"
   ]
  },
  {
   "cell_type": "markdown",
   "id": "c184025e",
   "metadata": {},
   "source": [
    "## QUE(13)"
   ]
  },
  {
   "cell_type": "markdown",
   "id": "c052f93e",
   "metadata": {},
   "source": [
    "13. What's the difference between tuples and lists?"
   ]
  },
  {
   "cell_type": "code",
   "execution_count": 47,
   "id": "aeb6147c",
   "metadata": {},
   "outputs": [],
   "source": [
    "## TUPLE are immutable     \\  LIST are mutable.\n",
    "## they can not be changed \\  LIST can be changed, remove, value added.\n",
    "## Enclosed in prantheses  \\  Enclosed within square bracktes"
   ]
  },
  {
   "cell_type": "markdown",
   "id": "b271f81e",
   "metadata": {},
   "source": [
    "## QUE(14)"
   ]
  },
  {
   "cell_type": "markdown",
   "id": "e8e8c0c3",
   "metadata": {},
   "source": [
    "14. How do you type a tuple value that only contains the integer 42?"
   ]
  },
  {
   "cell_type": "code",
   "execution_count": 89,
   "id": "2b1dfb09",
   "metadata": {},
   "outputs": [
    {
     "name": "stdout",
     "output_type": "stream",
     "text": [
      "<class 'tuple'>\n",
      "<class 'int'>\n"
     ]
    }
   ],
   "source": [
    "my_tuple = (42,) # by using comma\n",
    "my_tuple1 = (42)  # without using comma \n",
    "\n",
    "print(type(my_tuple))\n",
    "print(type(my_tuple1))\n",
    "\n",
    "## if single value are inside a parentheses than the datatype are existing , but when we insert a ( , ) comma then data type are changed in tuple  and than datatype will be tuple"
   ]
  },
  {
   "cell_type": "markdown",
   "id": "5ae50280",
   "metadata": {},
   "source": [
    "## QUE(15)"
   ]
  },
  {
   "cell_type": "markdown",
   "id": "88bc25c7",
   "metadata": {},
   "source": [
    "15. How do you get a list value's tuple form? How do you get a tuple value's list form?"
   ]
  },
  {
   "cell_type": "code",
   "execution_count": 70,
   "id": "3da62b8c",
   "metadata": {},
   "outputs": [
    {
     "name": "stdout",
     "output_type": "stream",
     "text": [
      "<class 'list'> ['dev', 'manoj', 1, 2, 3, 4, 5, 5.5, 5.36] <<<change>>> ('dev', 'manoj', 1, 2, 3, 4, 5, 5.5, 5.36) <class 'tuple'>\n"
     ]
    }
   ],
   "source": [
    "# CONVERSION FROM LIST TO TUPLE\n",
    "# list()\n",
    "\n",
    "\n",
    "my_list = ['dev','manoj',1,2,3,4,5,5.5,5.36]\n",
    "\n",
    "\n",
    "print(type(my_list), my_list,'<<<change>>>',(tuple(my_list)),type(a))"
   ]
  },
  {
   "cell_type": "code",
   "execution_count": 71,
   "id": "8a9468fa",
   "metadata": {},
   "outputs": [
    {
     "name": "stdout",
     "output_type": "stream",
     "text": [
      "<class 'tuple'> ('a', 'b', 1, 2, 3, 'c') <<<change>>> ['a', 'b', 1, 2, 3, 'c'] <class 'list'>\n"
     ]
    }
   ],
   "source": [
    "# CONVERSION FROM TUPLE TO LIST \n",
    "# tuple()\n",
    "\n",
    "\n",
    "my_tuple = ('a','b',1,2,3,'c')\n",
    "\n",
    "\n",
    "print(type(my_tuple), my_tuple,'<<<change>>>',(list(my_tuple)),type(list(my_tuple)))"
   ]
  },
  {
   "cell_type": "markdown",
   "id": "67f58f67",
   "metadata": {},
   "source": [
    "## QUE(16)"
   ]
  },
  {
   "cell_type": "markdown",
   "id": "e623b02b",
   "metadata": {},
   "source": [
    "16. Variables that \"contain\" list values are not necessarily lists themselves. Instead, what do they contain?"
   ]
  },
  {
   "cell_type": "code",
   "execution_count": 72,
   "id": "d90937c2",
   "metadata": {},
   "outputs": [],
   "source": [
    "# List contains different type of datatypes int,str,bool,complex no. ,etc , they contain the refrences values\n"
   ]
  },
  {
   "cell_type": "markdown",
   "id": "8135a393",
   "metadata": {},
   "source": [
    "## QUE(17)"
   ]
  },
  {
   "cell_type": "markdown",
   "id": "2a219893",
   "metadata": {},
   "source": [
    "17. How do you distinguish between copy.copy() and copy.deepcopy()?"
   ]
  },
  {
   "cell_type": "code",
   "execution_count": 73,
   "id": "dff0aa3c",
   "metadata": {},
   "outputs": [],
   "source": [
    "# DEEPCOPY :- create a new compound object or create a another copy\n",
    "# (1) > in a deep copy , a copy of deep object into a another object\n",
    "# (2) > if change made to a copy of the object do not reflect to the original copy\n",
    "\n",
    "\n",
    "# copy.copy() >- reflect on existing file\n",
    "# (1) > shallow copy comstruct a new compound object\n",
    "# (2) > does not affect on original object"
   ]
  },
  {
   "cell_type": "code",
   "execution_count": null,
   "id": "a2b098b3",
   "metadata": {},
   "outputs": [],
   "source": []
  }
 ],
 "metadata": {
  "kernelspec": {
   "display_name": "Python 3 (ipykernel)",
   "language": "python",
   "name": "python3"
  },
  "language_info": {
   "codemirror_mode": {
    "name": "ipython",
    "version": 3
   },
   "file_extension": ".py",
   "mimetype": "text/x-python",
   "name": "python",
   "nbconvert_exporter": "python",
   "pygments_lexer": "ipython3",
   "version": "3.9.12"
  }
 },
 "nbformat": 4,
 "nbformat_minor": 5
}
